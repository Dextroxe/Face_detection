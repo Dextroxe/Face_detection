{
 "cells": [
  {
   "cell_type": "code",
   "execution_count": 27,
   "id": "d493cc7b",
   "metadata": {},
   "outputs": [],
   "source": [
    "import cv2"
   ]
  },
  {
   "cell_type": "code",
   "execution_count": 28,
   "id": "719315ff",
   "metadata": {},
   "outputs": [],
   "source": [
    "# Load the cascade\n",
    "face_cascade = cv2.CascadeClassifier('haarcascade_frontalface_default.xml')"
   ]
  },
  {
   "cell_type": "code",
   "execution_count": 29,
   "id": "80d37793",
   "metadata": {},
   "outputs": [],
   "source": [
    "# Read the input image\n",
    "img = cv2.imread('moj-krdi.jpg')"
   ]
  },
  {
   "cell_type": "code",
   "execution_count": 30,
   "id": "20f486d7",
   "metadata": {},
   "outputs": [],
   "source": [
    "# Convert into grayscale\n",
    "gray_scaling = cv2.cvtColor(img, cv2.COLOR_BGR2GRAY)"
   ]
  },
  {
   "cell_type": "code",
   "execution_count": 31,
   "id": "0adca4b4",
   "metadata": {},
   "outputs": [],
   "source": [
    "# Detect faces\n",
    "faces = face_cascade.detectMultiScale(gray_scaling, 1.1, 4)"
   ]
  },
  {
   "cell_type": "code",
   "execution_count": 32,
   "id": "01411eda",
   "metadata": {},
   "outputs": [],
   "source": [
    "# Draw rectangle around the faces\n",
    "for (x, y, w, h) in faces:\n",
    "    cv2.rectangle(img, (x, y), (x + w, y + h), (255, 0, 0), 2)"
   ]
  },
  {
   "cell_type": "code",
   "execution_count": 33,
   "id": "b8553967",
   "metadata": {},
   "outputs": [
    {
     "data": {
      "text/plain": [
       "-1"
      ]
     },
     "execution_count": 33,
     "metadata": {},
     "output_type": "execute_result"
    }
   ],
   "source": [
    "# Display the output\n",
    "cv2.imshow('Detected images', img)\n",
    "cv2.waitKey()"
   ]
  },
  {
   "cell_type": "code",
   "execution_count": null,
   "id": "d38daeeb",
   "metadata": {},
   "outputs": [],
   "source": []
  }
 ],
 "metadata": {
  "kernelspec": {
   "display_name": "Python 3",
   "language": "python",
   "name": "python3"
  },
  "language_info": {
   "codemirror_mode": {
    "name": "ipython",
    "version": 3
   },
   "file_extension": ".py",
   "mimetype": "text/x-python",
   "name": "python",
   "nbconvert_exporter": "python",
   "pygments_lexer": "ipython3",
   "version": "3.9.6"
  }
 },
 "nbformat": 4,
 "nbformat_minor": 5
}
